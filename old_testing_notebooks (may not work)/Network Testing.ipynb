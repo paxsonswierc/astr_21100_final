{
 "cells": [
  {
   "cell_type": "code",
   "execution_count": 1,
   "id": "838f7f23",
   "metadata": {},
   "outputs": [],
   "source": [
    "from make_dataloader import get_dataloader\n",
    "from training_test_loops import training_loop, test_loop\n",
    "import torch\n",
    "from torch import nn\n",
    "from torch.autograd import Function\n",
    "import torch.nn.functional as F\n",
    "import numpy as np\n",
    "import pandas as pd\n",
    "import matplotlib.pyplot as plt\n",
    "from PIL import Image\n",
    "from torch.utils.data import Dataset, DataLoader\n",
    "from torchvision import transforms\n",
    "from torchsummary import summary\n",
    "import time\n",
    "torch.manual_seed(222222)\n",
    "np.random.seed(2222)\n",
    "#[(W−K+2P)/S]+1"
   ]
  },
  {
   "cell_type": "code",
   "execution_count": 2,
   "id": "7aaf6077",
   "metadata": {},
   "outputs": [],
   "source": [
    "root_dir = 'C:/Users/paxso/galclass_da/gal_img_full/gal_img_full/'\n",
    "csv_file = root_dir+\"gal_list.csv\"\n",
    "domain = 'source'\n",
    "batch_size = 32\n",
    "data = get_dataloader(csv_file, root_dir, domain, batch_size, train_size=.90, val_size=.05, test_size=.05)\n",
    "train_dataset, val_dataset, test_dataset, train_dataloader, val_dataloader, test_dataloader = data"
   ]
  },
  {
   "cell_type": "code",
   "execution_count": 3,
   "id": "1e9d0534",
   "metadata": {},
   "outputs": [
    {
     "name": "stdout",
     "output_type": "stream",
     "text": [
      "556740\n"
     ]
    }
   ],
   "source": [
    "bf = 16\n",
    "class NeuralNetwork(nn.Module):\n",
    "    def __init__(self):\n",
    "        super(NeuralNetwork, self).__init__()\n",
    "        self.conv1 = nn.Conv2d(in_channels=3, out_channels=bf, kernel_size=3, stride=(1,1), padding='same')\n",
    "        self.bn1 = nn.BatchNorm2d(bf)\n",
    "        self.conv2 = nn.Conv2d(in_channels=bf, out_channels=bf*2, kernel_size=3, stride=(1,1), padding='same')\n",
    "        self.bn2 = nn.BatchNorm2d(bf*2)\n",
    "        self.conv3 = nn.Conv2d(in_channels=bf*2, out_channels=bf*4, kernel_size=3, stride=(1,1), padding='same')\n",
    "        self.bn3 = nn.BatchNorm2d(bf*4)\n",
    "        \n",
    "        self.pool = nn.MaxPool2d(kernel_size=2, stride=2)\n",
    "        self.dropout = nn.Dropout(0.)\n",
    "        \n",
    "        self.fc1 = nn.Linear(in_features=bf*4*8*8, out_features=128)\n",
    "        self.fc2 = nn.Linear(in_features=128, out_features=64)\n",
    "        self.fc3 = nn.Linear(in_features=64, out_features=4)\n",
    "        \n",
    "    def forward(self, x):\n",
    "        x = x.view(-1, 3, 64, 64)\n",
    "        \n",
    "        x = self.dropout(self.pool(self.bn1(F.relu(self.conv1(x)))))\n",
    "        x = self.dropout(self.pool(self.bn2(F.relu(self.conv2(x)))))\n",
    "        x = self.dropout(self.pool(self.bn3(F.relu(self.conv3(x)))))\n",
    "        #x = self.pool(self.bn4(F.relu(self.conv4(x))))\n",
    "        \n",
    "        x = x.view(-1, bf*4*8*8)\n",
    "        x = self.dropout(F.relu(self.fc1(x)))\n",
    "        x = F.relu(self.fc2(x))\n",
    "        x = F.softmax(self.fc3(x), dim=1)\n",
    "        x = x.view(-1, 4)\n",
    "        return x\n",
    "\n",
    "model = NeuralNetwork().cuda()\n",
    "\n",
    "pytorch_total_params = sum(p.numel() for p in model.parameters() if p.requires_grad)\n",
    "print(pytorch_total_params)\n",
    "#summary(model, (3, 128, 128));"
   ]
  },
  {
   "cell_type": "code",
   "execution_count": 4,
   "id": "2c9198a5",
   "metadata": {},
   "outputs": [],
   "source": [
    "def training_loop(train_dataloader, val_dataloader, model, optimizer, loss_fn):\n",
    "    training_correct = 0.\n",
    "    training_total = 0.\n",
    "    training_loss = 0.\n",
    "    for i, data in enumerate(train_dataloader):\n",
    "        X, y = data\n",
    "        #if i < 10:\n",
    "            #print(X.size(), y.size())\n",
    "        X, y = X.cuda(), y.reshape(-1).cuda()\n",
    "        optimizer.zero_grad()\n",
    "        preds = model(X)\n",
    "        #if i < 10:\n",
    "            #print(preds.size())\n",
    "        loss = loss_fn(preds, y)\n",
    "        loss.backward()\n",
    "        optimizer.step()\n",
    "        \n",
    "        _, predicted = torch.max(preds.data, 1)\n",
    "        training_correct += torch.sum((predicted == y)).item()\n",
    "        training_total += y.size(0)\n",
    "        training_loss += loss.item()\n",
    "        \n",
    "    training_accuracy = training_correct / training_total\n",
    "    training_loss = training_loss / len(train_dataloader)\n",
    "        \n",
    "    val_correct = 0.\n",
    "    val_total = 0.\n",
    "    val_loss = 0.    \n",
    "    for data in val_dataloader:\n",
    "        with torch.no_grad():\n",
    "            X, y = data\n",
    "            X, y = X.cuda(), y.reshape(-1).cuda()\n",
    "            preds = model(X)\n",
    "            loss = loss_fn(preds, y)\n",
    "            _, predicted = torch.max(preds.data, 1)\n",
    "            val_correct += torch.sum((predicted == y)).item()\n",
    "            val_total += y.size(0)\n",
    "            val_loss += loss.item()\n",
    "            \n",
    "    val_accuracy = val_correct / val_total\n",
    "    val_loss = val_loss / len(val_dataloader)\n",
    "    \n",
    "    return training_accuracy, training_loss, val_accuracy, val_loss"
   ]
  },
  {
   "cell_type": "code",
   "execution_count": 5,
   "id": "d458aa27",
   "metadata": {},
   "outputs": [],
   "source": [
    "epochs = 60\n",
    "lr = 5.0e-4\n",
    "optimizer = torch.optim.Adam(model.parameters(), lr=lr)\n",
    "loss_fn = nn.CrossEntropyLoss().cuda()"
   ]
  },
  {
   "cell_type": "code",
   "execution_count": 6,
   "id": "25a30762",
   "metadata": {},
   "outputs": [
    {
     "name": "stdout",
     "output_type": "stream",
     "text": [
      "epoch:  0\n",
      "0.6739933023561088 1.0630133333809335 0.6650107411385607 1.0697737497321527\n",
      "83.39909338951111\n",
      "epoch:  1\n",
      "0.7214660232552936 1.0167427705267449 0.7294575725026853 1.0088145694507549\n",
      "84.34377956390381\n",
      "epoch:  2\n",
      "0.7356369847177369 1.0034931156401987 0.7367078410311493 1.0010215570998293\n",
      "87.74915790557861\n",
      "epoch:  3\n",
      "0.7437666415567175 0.9956390067614918 0.7521482277121375 0.9868550208505131\n",
      "84.97492551803589\n",
      "epoch:  4\n",
      "0.7487861452747302 0.9907571110492105 0.7548335123523093 0.9843842717199367\n",
      "85.61788582801819\n",
      "epoch:  5\n",
      "0.7540443178173736 0.9852447215867782 0.756578947368421 0.9828154112136415\n",
      "87.17598342895508\n",
      "epoch:  6\n",
      "0.7561625036359704 0.9833826185553057 0.7540279269602578 0.9858955462091471\n",
      "85.7497067451477\n",
      "epoch:  7\n",
      "0.7604287088762428 0.9794990197855419 0.7612781954887218 0.9786918659578577\n",
      "84.20610213279724\n",
      "epoch:  8\n",
      "0.7629198147333249 0.9769600982455479 0.7569817400644469 0.9827854912168478\n",
      "85.75131964683533\n",
      "epoch:  9\n",
      "0.7668727671412696 0.9732406400979845 0.7655746509129968 0.9741941744165871\n",
      "85.80196809768677\n",
      "epoch:  10\n",
      "0.7692519969868061 0.9706384568624109 0.7603383458646616 0.9786537977758907\n",
      "84.51392722129822\n",
      "epoch:  11\n",
      "0.7718102284508156 0.9681626426433891 0.7679914070891515 0.9725834896124483\n",
      "83.98413372039795\n",
      "epoch:  12\n",
      "0.7785526227466306 0.9610093270395138 0.7838345864661654 0.9555612160412539\n",
      "85.36409068107605\n",
      "epoch:  13\n",
      "0.7834602504530979 0.9568064769583272 0.7816863587540279 0.9577365714592995\n",
      "85.00087761878967\n",
      "epoch:  14\n",
      "0.7859886483140285 0.9539165718174208 0.7653061224489796 0.9744796612232028\n",
      "85.80386996269226\n",
      "epoch:  15\n",
      "0.7880173333233887 0.9517150925992497 0.792561761546724 0.948585556044599\n",
      "85.11906599998474\n",
      "epoch:  16\n",
      "0.7913288632651387 0.9489096785217594 0.7894736842105263 0.9513362983777288\n",
      "85.37297034263611\n",
      "epoch:  17\n",
      "0.7922089545559641 0.9476617068550183 0.7859828141783028 0.9536164686915188\n",
      "84.5982358455658\n",
      "epoch:  18\n",
      "0.7944613915884157 0.9457824288518446 0.7894736842105263 0.9507276134429572\n",
      "85.50815296173096\n",
      "epoch:  19\n",
      "0.7934694242860446 0.9466110289950359 0.7877282491944146 0.952794898733049\n",
      "86.82683849334717\n",
      "epoch:  20\n",
      "0.79587848773466 0.9444938152957361 0.7914876476906552 0.94794542748529\n",
      "85.38882684707642\n",
      "epoch:  21\n",
      "0.7975044191024561 0.9431206832210887 0.7894736842105263 0.949304305688506\n",
      "84.82390832901001\n",
      "epoch:  22\n",
      "0.7971837078693587 0.9431302245732992 0.8008861439312567 0.9401041097907038\n",
      "83.69501876831055\n",
      "epoch:  23\n",
      "0.7979220895455597 0.9421330731922232 0.8050483351235231 0.9356714586843237\n",
      "83.98253011703491\n",
      "epoch:  24\n",
      "0.7985262200079059 0.9418682848070004 0.7890708915145005 0.9518398962307386\n",
      "83.96514916419983\n",
      "epoch:  25\n",
      "0.8005250714141874 0.9399803518110926 0.7900107411385607 0.9476129484278961\n",
      "83.80502796173096\n",
      "epoch:  26\n",
      "0.801449913109631 0.9396233650835716 0.7999462943071965 0.9411822357914479\n",
      "84.13845157623291\n",
      "epoch:  27\n",
      "0.801703498735801 0.9389491644707955 0.8000805585392051 0.9388982211059766\n",
      "84.7707130908966\n",
      "epoch:  28\n",
      "0.8029565100651118 0.9375718344651999 0.8011546723952739 0.9401652795050789\n",
      "84.55224776268005\n",
      "epoch:  29\n",
      "0.8044631070205926 0.9360591116839206 0.799140708915145 0.9412955183839593\n",
      "84.38559198379517\n",
      "epoch:  30\n",
      "0.8017929995450376 0.9390290358755071 0.7892051557465092 0.950123217740284\n",
      "84.93940353393555\n",
      "epoch:  31\n",
      "0.8043736062113561 0.936428925601281 0.8018259935553169 0.9397182446692635\n",
      "84.01498484611511\n",
      "epoch:  32\n",
      "0.8058652863652975 0.9349006919701515 0.7972610096670247 0.9418917188316968\n",
      "86.09991097450256\n",
      "epoch:  33\n",
      "0.8036053909320764 0.9368944205646014 0.790547798066595 0.9492274855339476\n",
      "84.29709959030151\n",
      "epoch:  34\n",
      "0.8042841054021197 0.9368476483588571 0.7928302900107411 0.9472086984712167\n",
      "84.15205001831055\n",
      "epoch:  35\n",
      "0.803717266943622 0.9372296299456412 0.7969924812030075 0.9455527865323897\n",
      "85.3041365146637\n",
      "epoch:  36\n",
      "0.8038440597567069 0.9372025559511845 0.7975295381310419 0.9422514540954721\n",
      "84.3962287902832\n",
      "epoch:  37\n",
      "0.8041349373867256 0.9374336268566105 0.7922932330827067 0.948428968247426\n",
      "84.0147967338562\n",
      "epoch:  38\n",
      "0.8028371756527966 0.9384663958253611 0.8024973147153598 0.939590514473649\n",
      "85.77162671089172\n",
      "epoch:  39\n",
      "0.8064768752284135 0.9347927363789451 0.795515574650913 0.9450453008193315\n",
      "84.77649879455566\n",
      "epoch:  40\n",
      "0.8070437136869113 0.9343942695415105 0.8011546723952739 0.9399268253678416\n",
      "84.76546359062195\n",
      "epoch:  41\n",
      "0.8077149697561848 0.9332180525494077 0.7972610096670247 0.9437052257071237\n",
      "83.98558712005615\n",
      "epoch:  42\n",
      "0.8065589176368803 0.9350269643247554 0.80343716433942 0.9373372442732553\n",
      "84.54805183410645\n",
      "epoch:  43\n",
      "0.806998963282293 0.9344412610468261 0.7995435016111708 0.9415673002152996\n",
      "84.35714673995972\n",
      "epoch:  44\n",
      "0.8052164054983331 0.9362716790030851 0.7965896885069818 0.9448595277229603\n",
      "84.61160850524902\n",
      "epoch:  45\n",
      "0.8050075702767813 0.9363478262413089 0.8029001074113856 0.9376398923571018\n",
      "84.7846827507019\n",
      "epoch:  46\n",
      "0.8071332144961477 0.9344665056196773 0.8018259935553169 0.9398041400786633\n",
      "84.94193530082703\n",
      "epoch:  47\n",
      "0.8060442879837705 0.9354463721232085 0.799812030075188 0.9411091147062605\n",
      "83.97001791000366\n",
      "epoch:  48\n",
      "0.8086174362493194 0.9330339139002889 0.7969924812030075 0.9436898791738846\n",
      "84.72205185890198\n",
      "epoch:  49\n",
      "0.8051641966929451 0.9362811140911675 0.799812030075188 0.9424650344214214\n",
      "84.02442240715027\n",
      "epoch:  50\n",
      "0.8067602944576624 0.9347523362795891 0.7972610096670247 0.9441483066828977\n",
      "84.54481434822083\n",
      "epoch:  51\n",
      "0.8069318376753657 0.9346310918541683 0.807733619763695 0.933427856971266\n",
      "84.24559259414673\n",
      "epoch:  52\n",
      "0.8084309762300768 0.9333746458721616 0.7996777658431794 0.9430395697319457\n",
      "84.9265787601471\n",
      "epoch:  53\n",
      "0.8069020040722868 0.934849061829378 0.7944414607948442 0.9466353547419601\n",
      "84.4410092830658\n",
      "epoch:  54\n",
      "0.8068199616638201 0.9345588713670971 0.7936358754027927 0.9479123302795345\n",
      "84.68209218978882\n",
      "epoch:  55\n",
      "0.8067975864615109 0.9347439275436583 0.7924274973147154 0.9486543871302462\n",
      "84.21504163742065\n",
      "epoch:  56\n",
      "0.8047689014521506 0.937048459949243 0.7870569280343717 0.9544224539539845\n",
      "84.30248785018921\n",
      "epoch:  57\n",
      "0.8028073420497177 0.9391795186837135 0.8006176154672395 0.9410865977086734\n",
      "84.04874849319458\n",
      "epoch:  58\n",
      "0.8050075702767813 0.936838684417752 0.8061224489795918 0.9357230123532176\n",
      "83.6791262626648\n",
      "epoch:  59\n",
      "0.8071481312976871 0.9347970957545506 0.8041084854994629 0.9371234897380223\n",
      "84.38874530792236\n"
     ]
    }
   ],
   "source": [
    "for epoch in range(epochs):\n",
    "    print('epoch: ', epoch)\n",
    "    start_time = time.time()\n",
    "    training_accuracy, training_loss, val_accuracy, val_loss = training_loop(train_dataloader, \n",
    "                                                                         val_dataloader, model, optimizer, loss_fn)\n",
    "    print(training_accuracy, training_loss, val_accuracy, val_loss)\n",
    "    print(time.time() - start_time)"
   ]
  },
  {
   "cell_type": "code",
   "execution_count": 7,
   "id": "3ae532ce",
   "metadata": {},
   "outputs": [],
   "source": [
    "torch.save(model.state_dict(), 'C:/Users/paxso/galclass_da/80_sourceonly_network.pt')"
   ]
  },
  {
   "cell_type": "code",
   "execution_count": 8,
   "id": "d0c5786b",
   "metadata": {},
   "outputs": [],
   "source": [
    "def test_loop(dataloader, model, loss_fn):\n",
    "    correct = 0.\n",
    "    total = 0.\n",
    "    all_loss = 0.    \n",
    "    for data in dataloader:\n",
    "        with torch.no_grad():\n",
    "            X, y = data\n",
    "            X, y = X.cuda(), y.reshape(-1).cuda()\n",
    "            preds = model(X)\n",
    "            loss = loss_fn(preds, y)\n",
    "            _, predicted = torch.max(preds.data, 1)\n",
    "            correct += torch.sum((predicted == y)).item()\n",
    "            total += y.size(0)\n",
    "            all_loss += loss.item()\n",
    "            \n",
    "    accuracy = correct / total\n",
    "    all_loss = all_loss / len(dataloader)\n",
    "    \n",
    "    return accuracy, all_loss"
   ]
  },
  {
   "cell_type": "code",
   "execution_count": 9,
   "id": "b3cf6696",
   "metadata": {},
   "outputs": [
    {
     "name": "stdout",
     "output_type": "stream",
     "text": [
      "0.8012889366272825 0.9407094210514183\n"
     ]
    }
   ],
   "source": [
    "test_accuracy, loss = test_loop(test_dataloader, model, loss_fn)\n",
    "print(test_accuracy, loss)"
   ]
  },
  {
   "cell_type": "code",
   "execution_count": 10,
   "id": "0e4aabfa",
   "metadata": {},
   "outputs": [],
   "source": [
    "model2 = NeuralNetwork().cuda()"
   ]
  },
  {
   "cell_type": "code",
   "execution_count": 11,
   "id": "c632ad7f",
   "metadata": {},
   "outputs": [
    {
     "name": "stdout",
     "output_type": "stream",
     "text": [
      "0.39339419978517726 1.371815025550613\n"
     ]
    }
   ],
   "source": [
    "test_accuracy, loss = test_loop(test_dataloader, model2, loss_fn)\n",
    "print(test_accuracy, loss)"
   ]
  },
  {
   "cell_type": "code",
   "execution_count": 12,
   "id": "f5f82d8a",
   "metadata": {},
   "outputs": [
    {
     "name": "stdout",
     "output_type": "stream",
     "text": [
      "0.799812030075188 0.9407174551435806\n"
     ]
    }
   ],
   "source": [
    "#model = TheModelClass(*args, **kwargs)\n",
    "model2.load_state_dict(torch.load('C:/Users/paxso/galclass_da/80_sourceonly_network.pt'))\n",
    "test_accuracy, loss = test_loop(test_dataloader, model2, loss_fn)\n",
    "print(test_accuracy, loss)"
   ]
  },
  {
   "cell_type": "code",
   "execution_count": 13,
   "id": "a699e6f4",
   "metadata": {},
   "outputs": [],
   "source": [
    "root_dir = 'C:/Users/paxso/galclass_da/gal_img_full/gal_img_full/'\n",
    "csv_file = root_dir + 'hsc_dataframe.csv'\n",
    "domain = 'target'\n",
    "batch_size = 32\n",
    "data = get_dataloader(csv_file, root_dir, domain, batch_size, train_size=.01, val_size=.01, test_size=.98)\n",
    "target_train_dataset, target_val_dataset, target_test_dataset, target_train_dataloader, target_val_dataloader, target_test_dataloader = data"
   ]
  },
  {
   "cell_type": "code",
   "execution_count": 14,
   "id": "586f1a43",
   "metadata": {},
   "outputs": [
    {
     "name": "stdout",
     "output_type": "stream",
     "text": [
      "0.6166124283279095 1.1252227047882457\n"
     ]
    }
   ],
   "source": [
    "test_accuracy, loss = test_loop(target_test_dataloader, model2, loss_fn)\n",
    "print(test_accuracy, loss)"
   ]
  },
  {
   "cell_type": "code",
   "execution_count": null,
   "id": "96e5e778",
   "metadata": {},
   "outputs": [],
   "source": []
  }
 ],
 "metadata": {
  "kernelspec": {
   "display_name": "Python 3 (ipykernel)",
   "language": "python",
   "name": "python3"
  },
  "language_info": {
   "codemirror_mode": {
    "name": "ipython",
    "version": 3
   },
   "file_extension": ".py",
   "mimetype": "text/x-python",
   "name": "python",
   "nbconvert_exporter": "python",
   "pygments_lexer": "ipython3",
   "version": "3.10.9"
  }
 },
 "nbformat": 4,
 "nbformat_minor": 5
}
